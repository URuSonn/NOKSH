{
 "cells": [
  {
   "cell_type": "markdown",
   "metadata": {},
   "source": [
    "# クラス `class`\n"
   ]
  },
  {
   "cell_type": "code",
   "execution_count": 2,
   "metadata": {},
   "outputs": [
    {
     "name": "stdout",
     "output_type": "stream",
     "text": [
      "300\n"
     ]
    }
   ],
   "source": [
    "//MDNの基本説明\n",
    "class Rectangle {\n",
    "  height: number;\n",
    "  width: number;\n",
    "  constructor(height, width) {\n",
    "    this.height = height;\n",
    "    this.width = width;\n",
    "  }\n",
    "  // ゲッター\n",
    "  get area() {\n",
    "    return this.calcArea();\n",
    "  }\n",
    "  // メソッド\n",
    "  calcArea() {\n",
    "    return this.height * this.width;\n",
    "  }\n",
    "}\n",
    "const square = new Rectangle(30, 10);\n",
    "console.log(square.area);\n"
   ]
  },
  {
   "cell_type": "markdown",
   "metadata": {},
   "source": [
    "## 犬のクラスうを作ってみよ\n"
   ]
  },
  {
   "cell_type": "code",
   "execution_count": 25,
   "metadata": {},
   "outputs": [
    {
     "name": "stdout",
     "output_type": "stream",
     "text": [
      "bob: わんわん\n",
      "inu: わんわん\n",
      "inuはmeatを食べた\n",
      "false\n",
      "inuはお腹が空いてない\n",
      "[ \"meat\", \"bone\", \"fish\", \"dogTreat\" ]\n",
      "bobはfishを食べた\n",
      "false\n",
      "inuはお腹が空いてない\n",
      "false\n"
     ]
    }
   ],
   "source": [
    "class Dog {\n",
    "  name: string;\n",
    "  legNumber: 4;\n",
    "  hairColor: string;\n",
    "  eyeColor: string;\n",
    "  size: number; //単位：cm\n",
    "  placeOfOrigin: string;\n",
    "  isHungry: boolean = true;\n",
    "  static food = [\"meat\", \"bone\", \"fish\", \"dogTreat\"];\n",
    "  //コンストラクター\n",
    "  constructor(\n",
    "    name: string,\n",
    "    hairColor: string,\n",
    "    eyeColor: string,\n",
    "    size: number,\n",
    "    placeOfOrigin: string\n",
    "  ) {\n",
    "    this.name = name;\n",
    "    this.hairColor = hairColor;\n",
    "    this.eyeColor = eyeColor;\n",
    "    this.size = size;\n",
    "    this.placeOfOrigin = placeOfOrigin;\n",
    "  }\n",
    "  //メソッド\n",
    "  bark() {\n",
    "    console.log(this.name + \": わんわん\");\n",
    "  }\n",
    "  feed(dogFood: string) {\n",
    "    if (this.isHungry) {\n",
    "      //食べる\n",
    "      if (Dog.food.includes(dogFood)) {\n",
    "        console.log(this.name + `は${dogFood}を食べた`);\n",
    "        this.isHungry = false;\n",
    "        setTimeout(() => {\n",
    "          this.#becomeHungry();\n",
    "        }, 3000);\n",
    "      } else if (dogFood === \"chocolate\") {\n",
    "        console.log(this.name + \"はチョコレートを食べて、吐き出した\");\n",
    "      } else {\n",
    "        console.log(this.name + `は${dogFood}を食べたくありません`);\n",
    "      }\n",
    "    } else {\n",
    "      console.log(this.name + \"はお腹が空いてない\");\n",
    "    }\n",
    "  }\n",
    "  #becomeHungry() {\n",
    "    this.isHungry = true;\n",
    "    console.log(this.name + \"はお腹がすいた\");\n",
    "  }\n",
    "}\n",
    "\n",
    "const dog = new Dog(\"bob\", \"red\", \"black\", 100, \"Japan\");\n",
    "dog.bark();\n",
    "const dog1 = new Dog(\"inu\", \"green\", \"red\", 200, \"England\");\n",
    "dog1.bark();\n",
    "dog1.feed(\"meat\");\n",
    "console.log(dog1.isHungry);\n",
    "dog1.feed(\"meat\");\n",
    "console.log(Dog.food);\n",
    "dog.feed(\"fish\");\n",
    "console.log(dog1.isHungry);\n",
    "dog1.feed(\"bone\");\n",
    "console.log(dog1.isHungry);\n"
   ]
  },
  {
   "cell_type": "code",
   "execution_count": 26,
   "metadata": {},
   "outputs": [
    {
     "name": "stdout",
     "output_type": "stream",
     "text": [
      "inuはお腹が空いてない\n",
      "false\n",
      "inuはお腹がすいた\n",
      "bobはお腹がすいた\n"
     ]
    }
   ],
   "source": [
    "dog1.feed(\"bone\");\n",
    "console.log(dog1.isHungry);\n"
   ]
  },
  {
   "cell_type": "code",
   "execution_count": 27,
   "metadata": {},
   "outputs": [
    {
     "name": "stdout",
     "output_type": "stream",
     "text": [
      "inuはboneを食べた\n",
      "false\n"
     ]
    }
   ],
   "source": [
    "dog1.feed(\"bone\");\n",
    "console.log(dog1.isHungry);\n"
   ]
  },
  {
   "cell_type": "code",
   "execution_count": 9,
   "metadata": {},
   "outputs": [],
   "source": [
    "type AnimalProps = {\n",
    "  name: string;\n",
    "  eyeColor: string;\n",
    "  size: number; //単位：cm\n",
    "  placeOfOrigin: string;\n",
    "};\n",
    "class Animal {\n",
    "  name: string;\n",
    "  legNumber: number; //型がnumberで、初期値が４\n",
    "  eyeColor: string;\n",
    "  size: number; //単位：cm\n",
    "  placeOfOrigin: string;\n",
    "  isHungry: boolean = true;\n",
    "  static food: Array<string> = []; //static\n",
    "  constructor(Props: AnimalProps) {\n",
    "    this.name = Props.name;\n",
    "    this.eyeColor = Props.eyeColor;\n",
    "    this.size = Props.size;\n",
    "    this.placeOfOrigin = Props.placeOfOrigin;\n",
    "  }\n",
    "  //メソッド\n",
    "  feed(food: string) {\n",
    "    if (this.isHungry) {\n",
    "      //食べる\n",
    "      //@ts-ignore\n",
    "      if (this.constructor.food.includes(food)) {\n",
    "        console.log(this.name + `は${food}を食べた`);\n",
    "        this.isHungry = false;\n",
    "        setTimeout(() => {\n",
    "          this.#becomeHungry();\n",
    "        }, 3000);\n",
    "      } else if (food === \"chocolate\") {\n",
    "        console.log(this.name + \"はチョコレートを食べて、吐き出した\");\n",
    "      } else {\n",
    "        console.log(this.name + `は${food}を食べたくありません`);\n",
    "      }\n",
    "    } else {\n",
    "      console.log(this.name + \"はお腹が空いてない\");\n",
    "    }\n",
    "  }\n",
    "  #becomeHungry() {\n",
    "    this.isHungry = true;\n",
    "    console.log(this.name + \"はお腹がすいた\");\n",
    "  }\n",
    "}\n"
   ]
  },
  {
   "cell_type": "markdown",
   "metadata": {},
   "source": [
    "# 哺乳類　親クラス\n"
   ]
  },
  {
   "cell_type": "code",
   "execution_count": 7,
   "metadata": {},
   "outputs": [],
   "source": [
    "// 哺乳類の基本的なProps\n",
    "type MammalProps = AnimalProps & {\n",
    "  hairColor: string;\n",
    "};\n",
    "\n",
    "// クラスの名前は基本大文字\n",
    "class Mammal extends Animal {\n",
    "  legNumber: number = 4; //型がnumberで、初期値が４\n",
    "  hairColor: string;\n",
    "  static food: Array<string> = [\"water\"]; //static\n",
    "  //コンストラクター\n",
    "  constructor(props: MammalProps) {\n",
    "    super(props);\n",
    "    this.hairColor = props.hairColor;\n",
    "  }\n",
    "}\n"
   ]
  },
  {
   "cell_type": "markdown",
   "metadata": {},
   "source": [
    "# 鳥類　親クラス\n"
   ]
  },
  {
   "cell_type": "code",
   "execution_count": 23,
   "metadata": {},
   "outputs": [],
   "source": [
    "type BirdProps = AnimalProps & {\n",
    "  featherColor: string;\n",
    "};\n",
    "class Bird extends Animal implements CanFly {\n",
    "  static food = [\"bag\", \"fish\"];\n",
    "  legNumber: 2;\n",
    "  featherColor: string;\n",
    "  canFly: boolean = true;\n",
    "  flyingSpeed: number;\n",
    "  flyingHeight: number;\n",
    "  flyingLength: number;\n",
    "  weight: number;\n",
    "  constructor(props: BirdProps) {\n",
    "    super(props);\n",
    "    this.featherColor = props.featherColor;\n",
    "  }\n",
    "  fly() {\n",
    "    console.log(this.name + \"は飛んでいます\");\n",
    "  }\n",
    "  chirp() {}\n",
    "}\n"
   ]
  },
  {
   "cell_type": "markdown",
   "metadata": {},
   "source": [
    "# 猫ブロック\n"
   ]
  },
  {
   "cell_type": "code",
   "execution_count": 39,
   "metadata": {},
   "outputs": [
    {
     "name": "stdout",
     "output_type": "stream",
     "text": [
      "[ \"water\", \"meat\", \"fish\", \"catTreat\" ]\n"
     ]
    }
   ],
   "source": [
    "class Cat extends Mammal {\n",
    "  static food = [...Mammal.food, \"meat\", \"fish\", \"catTreat\"];\n",
    "  constructor(props: MammalProps) {\n",
    "    super(props);\n",
    "  }\n",
    "  meow() {}\n",
    "}\n",
    "\n",
    "const cat = new Cat({\n",
    "  name: \"john\",\n",
    "  hairColor: \"white\",\n",
    "  eyeColor: \"blue\",\n",
    "  size: 30,\n",
    "  placeOfOrigin: \"Japan\",\n",
    "});\n",
    "\n",
    "console.log(Cat.food);\n"
   ]
  },
  {
   "cell_type": "markdown",
   "metadata": {},
   "source": [
    "# 馬ブロック\n"
   ]
  },
  {
   "cell_type": "code",
   "execution_count": null,
   "metadata": {},
   "outputs": [],
   "source": [
    "type HorseProps = {\n",
    "  saddle: string;\n",
    "  horseshoe: string;\n",
    "};\n",
    "class Horse extends Mammal {\n",
    "  //extends で　親クラス、メソッド、コンストラクターをコピーする\n",
    "  saddle: string;\n",
    "  horseshoe: string;\n",
    "  constructor(props: HorseProps & MammalProps) {\n",
    "    super(props); //親のクラスを呼び出すために必要\n",
    "    this.saddle = props.saddle;\n",
    "    this.horseshoe = props.horseshoe;\n",
    "  }\n",
    "  neigh() {}\n",
    "}\n"
   ]
  },
  {
   "cell_type": "markdown",
   "metadata": {},
   "source": [
    "# CanFly インターフェース\n"
   ]
  },
  {
   "cell_type": "code",
   "execution_count": 15,
   "metadata": {},
   "outputs": [],
   "source": [
    "interface CanFly {\n",
    "  flyingSpeed: number;\n",
    "  flyingHeight: number;\n",
    "  flyingLength: number;\n",
    "  weight: number; //単位：g\n",
    "  fly: () => void;\n",
    "}\n",
    "\n",
    "type CanFlyProps = {\n",
    "  flyingSpeed: number;\n",
    "  flyingHeight: number;\n",
    "  flyingLength: number;\n",
    "  weight: number;\n",
    "};\n"
   ]
  },
  {
   "cell_type": "markdown",
   "metadata": {},
   "source": [
    "# コウモリブロック\n"
   ]
  },
  {
   "cell_type": "code",
   "execution_count": 20,
   "metadata": {},
   "outputs": [
    {
     "name": "stdout",
     "output_type": "stream",
     "text": [
      "2\n",
      "mikeがバタバタ\n"
     ]
    }
   ],
   "source": [
    "type BatProps = MammalProps & {\n",
    "  canFly: boolean;\n",
    "  weight: number;\n",
    "};\n",
    "// コウモリ🦇\n",
    "class Bat extends Mammal implements CanFly {\n",
    "  //implements インターフェース実装時に必要\n",
    "  canFly: boolean = true;\n",
    "  legNumber: number = 2;\n",
    "  flyingSpeed: number = 20; //単位：km/h\n",
    "  flyingHeight: number;\n",
    "  flyingLength: number;\n",
    "  weight: number;\n",
    "  constructor(props: BatProps) {\n",
    "    super(props);\n",
    "    this.canFly = props.canFly;\n",
    "  }\n",
    "  fly() {\n",
    "    console.log(this.name + \"がバタバタ\");\n",
    "  }\n",
    "}\n",
    "\n",
    "const bat = new Bat({\n",
    "  name: \"mike\",\n",
    "  hairColor: \"black\",\n",
    "  eyeColor: \"black\",\n",
    "  size: 10,\n",
    "  placeOfOrigin: \"Australia\",\n",
    "  canFly: true,\n",
    "  weight: 400,\n",
    "});\n",
    "\n",
    "console.log(bat.legNumber);\n",
    "bat.fly();\n"
   ]
  },
  {
   "cell_type": "markdown",
   "metadata": {},
   "source": [
    "# 鷹ブロック 🦅\n"
   ]
  },
  {
   "cell_type": "code",
   "execution_count": 24,
   "metadata": {},
   "outputs": [
    {
     "name": "stdout",
     "output_type": "stream",
     "text": [
      "galeはハントしました\n",
      "galeは飛んでいます\n"
     ]
    }
   ],
   "source": [
    "type HawkProps = Omit<BirdProps, \"featherColor\">;\n",
    "\n",
    "class Hawk extends Bird {\n",
    "  flyingSpeed: number = 20; //単位：km/h\n",
    "  constructor(props: HawkProps) {\n",
    "    super({ ...props, featherColor: \"brown\" });\n",
    "  }\n",
    "  hunt() {\n",
    "    console.log(this.name + \"はハントしました\");\n",
    "  }\n",
    "}\n",
    "\n",
    "const hawk = new Hawk({\n",
    "  name: \"gale\",\n",
    "  eyeColor: \"bran\",\n",
    "  size: 100,\n",
    "  placeOfOrigin: \"America\",\n",
    "});\n",
    "\n",
    "hawk.hunt();\n",
    "hawk.fly();\n"
   ]
  },
  {
   "cell_type": "markdown",
   "metadata": {},
   "source": [
    "# 鳩　ブロック\n"
   ]
  },
  {
   "cell_type": "code",
   "execution_count": null,
   "metadata": {},
   "outputs": [],
   "source": [
    "class Pigeon extends Bird {\n",
    "  flyingSpeed: number = 20; //単位：km/h\n",
    "  constructor(props: BirdProps) {\n",
    "    super(props);\n",
    "  }\n",
    "}\n",
    "\n",
    "const pigeon = new Pigeon({\n",
    "  name: \"gooo\",\n",
    "  eyeColor: \"red\",\n",
    "  size: 40,\n",
    "  placeOfOrigin: \"Japan\",\n",
    "  featherColor: \"white\",\n",
    "});\n"
   ]
  },
  {
   "cell_type": "markdown",
   "metadata": {},
   "source": [
    "# フクロウブロック\n"
   ]
  },
  {
   "cell_type": "code",
   "execution_count": null,
   "metadata": {},
   "outputs": [],
   "source": [
    "class Owl extends Bird {\n",
    "  flyingSpeed: number = 10;\n",
    "  constructor(props: BirdProps) {\n",
    "    super(props);\n",
    "  }\n",
    "  fly() {\n",
    "    console.log(\"飛んでいる\");\n",
    "  }\n",
    "}\n"
   ]
  },
  {
   "cell_type": "markdown",
   "metadata": {},
   "source": [
    "\n",
    "\n",
    "\n",
    "\n",
    "\n",
    "\n",
    "\n",
    "\n",
    "\n",
    "\n"
   ]
  },
  {
   "cell_type": "code",
   "execution_count": null,
   "metadata": {},
   "outputs": [],
   "source": [
    "type T1 = {\n",
    "  hoge: string;\n",
    "  foo: number;\n",
    "  bar: boolean;\n",
    "};\n",
    "type T2 = Omit<T1, \"foo\">;\n",
    "type T3 = Omit<T1, \"foo\" | \"bar\">;\n",
    "\n",
    "const t2: T2 = {\n",
    "  hoge: \"\",\n",
    "  bar: true,\n",
    "};\n",
    "\n",
    "console.log(t2);\n"
   ]
  },
  {
   "cell_type": "markdown",
   "metadata": {},
   "source": []
  }
 ],
 "metadata": {
  "kernelspec": {
   "display_name": "Deno",
   "language": "typescript",
   "name": "deno"
  },
  "language_info": {
   "file_extension": ".ts",
   "mimetype": "text/x.typescript",
   "name": "typescript",
   "nb_converter": "script",
   "pygments_lexer": "typescript",
   "version": "5.2.2"
  },
  "orig_nbformat": 4
 },
 "nbformat": 4,
 "nbformat_minor": 2
}
